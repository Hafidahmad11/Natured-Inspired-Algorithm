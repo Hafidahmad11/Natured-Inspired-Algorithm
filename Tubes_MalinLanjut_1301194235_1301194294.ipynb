{
  "nbformat": 4,
  "nbformat_minor": 0,
  "metadata": {
    "colab": {
      "name": "Tubes_MalinLanjut_1301194235_1301194294.ipynb",
      "provenance": [],
      "collapsed_sections": []
    },
    "kernelspec": {
      "name": "python3",
      "display_name": "Python 3"
    },
    "language_info": {
      "name": "python"
    }
  },
  "cells": [
    {
      "cell_type": "markdown",
      "source": [
        "# Random Forest Regressor"
      ],
      "metadata": {
        "id": "YfLkiUx7x2_t"
      }
    },
    {
      "cell_type": "code",
      "execution_count": null,
      "metadata": {
        "id": "tAZ2r6f-Ut0m"
      },
      "outputs": [],
      "source": [
        "import pandas as pd\n",
        "import numpy as np\n",
        "import matplotlib.pyplot as plt\n",
        "import seaborn as sns\n",
        "from sklearn.datasets import load_boston"
      ]
    },
    {
      "cell_type": "markdown",
      "source": [
        "## Load Dataset"
      ],
      "metadata": {
        "id": "WRnKNQy9-7SQ"
      }
    },
    {
      "cell_type": "code",
      "source": [
        "# dataset boston_test\n",
        "!gdown 1Msm39yMGVmmg4muWwoFwYCWhXm0jguoz"
      ],
      "metadata": {
        "colab": {
          "base_uri": "https://localhost:8080/"
        },
        "id": "QXCoDY8el8a-",
        "outputId": "e0923b92-3db6-4bd6-eb80-b84473c04302"
      },
      "execution_count": null,
      "outputs": [
        {
          "output_type": "stream",
          "name": "stdout",
          "text": [
            "Downloading...\n",
            "From: https://drive.google.com/uc?id=1Msm39yMGVmmg4muWwoFwYCWhXm0jguoz\n",
            "To: /content/boston_test.csv\n",
            "\r  0% 0.00/7.07k [00:00<?, ?B/s]\r100% 7.07k/7.07k [00:00<00:00, 7.52MB/s]\n"
          ]
        }
      ]
    },
    {
      "cell_type": "code",
      "source": [
        "# dataset boston_train\n",
        "!gdown 1R6ZjpniNTAkWK_sjc85htPYxU0el_VA6"
      ],
      "metadata": {
        "colab": {
          "base_uri": "https://localhost:8080/"
        },
        "id": "4lfPspl6l-Kz",
        "outputId": "909a8480-fdae-4ab4-bcac-8331f2ff6f75"
      },
      "execution_count": null,
      "outputs": [
        {
          "output_type": "stream",
          "name": "stdout",
          "text": [
            "Downloading...\n",
            "From: https://drive.google.com/uc?id=1R6ZjpniNTAkWK_sjc85htPYxU0el_VA6\n",
            "To: /content/boston_train.csv\n",
            "\r  0% 0.00/27.7k [00:00<?, ?B/s]\r100% 27.7k/27.7k [00:00<00:00, 32.2MB/s]\n"
          ]
        }
      ]
    },
    {
      "cell_type": "code",
      "source": [
        "boston_train = pd.read_csv('boston_train.csv')\n",
        "boston_train.head()"
      ],
      "metadata": {
        "id": "r-MymgCMaFlJ",
        "colab": {
          "base_uri": "https://localhost:8080/",
          "height": 206
        },
        "outputId": "8728ff11-d986-4feb-d458-8a5d2ec44b3e"
      },
      "execution_count": null,
      "outputs": [
        {
          "output_type": "execute_result",
          "data": {
            "text/plain": [
              "       CRIM   ZN  INDUS  CHAS    NOX     RM    AGE     DIS  RAD  TAX  PTRATIO  \\\n",
              "0   0.40771  0.0   6.20     1  0.507  6.164   91.3  3.0480    8  307     17.4   \n",
              "1  19.60910  0.0  18.10     0  0.671  7.313   97.9  1.3163   24  666     20.2   \n",
              "2   6.71772  0.0  18.10     0  0.713  6.749   92.6  2.3236   24  666     20.2   \n",
              "3   1.51902  0.0  19.58     1  0.605  8.375   93.9  2.1620    5  403     14.7   \n",
              "4   9.59571  0.0  18.10     0  0.693  6.404  100.0  1.6390   24  666     20.2   \n",
              "\n",
              "        B  LSTAT  PRICE  \n",
              "0  395.24  21.46   21.7  \n",
              "1  396.90  13.44   15.0  \n",
              "2    0.32  17.44   13.4  \n",
              "3  388.45   3.32   50.0  \n",
              "4  376.11  20.31   12.1  "
            ],
            "text/html": [
              "\n",
              "  <div id=\"df-fa986af4-a6b5-45e3-8302-3e87f57f4b13\">\n",
              "    <div class=\"colab-df-container\">\n",
              "      <div>\n",
              "<style scoped>\n",
              "    .dataframe tbody tr th:only-of-type {\n",
              "        vertical-align: middle;\n",
              "    }\n",
              "\n",
              "    .dataframe tbody tr th {\n",
              "        vertical-align: top;\n",
              "    }\n",
              "\n",
              "    .dataframe thead th {\n",
              "        text-align: right;\n",
              "    }\n",
              "</style>\n",
              "<table border=\"1\" class=\"dataframe\">\n",
              "  <thead>\n",
              "    <tr style=\"text-align: right;\">\n",
              "      <th></th>\n",
              "      <th>CRIM</th>\n",
              "      <th>ZN</th>\n",
              "      <th>INDUS</th>\n",
              "      <th>CHAS</th>\n",
              "      <th>NOX</th>\n",
              "      <th>RM</th>\n",
              "      <th>AGE</th>\n",
              "      <th>DIS</th>\n",
              "      <th>RAD</th>\n",
              "      <th>TAX</th>\n",
              "      <th>PTRATIO</th>\n",
              "      <th>B</th>\n",
              "      <th>LSTAT</th>\n",
              "      <th>PRICE</th>\n",
              "    </tr>\n",
              "  </thead>\n",
              "  <tbody>\n",
              "    <tr>\n",
              "      <th>0</th>\n",
              "      <td>0.40771</td>\n",
              "      <td>0.0</td>\n",
              "      <td>6.20</td>\n",
              "      <td>1</td>\n",
              "      <td>0.507</td>\n",
              "      <td>6.164</td>\n",
              "      <td>91.3</td>\n",
              "      <td>3.0480</td>\n",
              "      <td>8</td>\n",
              "      <td>307</td>\n",
              "      <td>17.4</td>\n",
              "      <td>395.24</td>\n",
              "      <td>21.46</td>\n",
              "      <td>21.7</td>\n",
              "    </tr>\n",
              "    <tr>\n",
              "      <th>1</th>\n",
              "      <td>19.60910</td>\n",
              "      <td>0.0</td>\n",
              "      <td>18.10</td>\n",
              "      <td>0</td>\n",
              "      <td>0.671</td>\n",
              "      <td>7.313</td>\n",
              "      <td>97.9</td>\n",
              "      <td>1.3163</td>\n",
              "      <td>24</td>\n",
              "      <td>666</td>\n",
              "      <td>20.2</td>\n",
              "      <td>396.90</td>\n",
              "      <td>13.44</td>\n",
              "      <td>15.0</td>\n",
              "    </tr>\n",
              "    <tr>\n",
              "      <th>2</th>\n",
              "      <td>6.71772</td>\n",
              "      <td>0.0</td>\n",
              "      <td>18.10</td>\n",
              "      <td>0</td>\n",
              "      <td>0.713</td>\n",
              "      <td>6.749</td>\n",
              "      <td>92.6</td>\n",
              "      <td>2.3236</td>\n",
              "      <td>24</td>\n",
              "      <td>666</td>\n",
              "      <td>20.2</td>\n",
              "      <td>0.32</td>\n",
              "      <td>17.44</td>\n",
              "      <td>13.4</td>\n",
              "    </tr>\n",
              "    <tr>\n",
              "      <th>3</th>\n",
              "      <td>1.51902</td>\n",
              "      <td>0.0</td>\n",
              "      <td>19.58</td>\n",
              "      <td>1</td>\n",
              "      <td>0.605</td>\n",
              "      <td>8.375</td>\n",
              "      <td>93.9</td>\n",
              "      <td>2.1620</td>\n",
              "      <td>5</td>\n",
              "      <td>403</td>\n",
              "      <td>14.7</td>\n",
              "      <td>388.45</td>\n",
              "      <td>3.32</td>\n",
              "      <td>50.0</td>\n",
              "    </tr>\n",
              "    <tr>\n",
              "      <th>4</th>\n",
              "      <td>9.59571</td>\n",
              "      <td>0.0</td>\n",
              "      <td>18.10</td>\n",
              "      <td>0</td>\n",
              "      <td>0.693</td>\n",
              "      <td>6.404</td>\n",
              "      <td>100.0</td>\n",
              "      <td>1.6390</td>\n",
              "      <td>24</td>\n",
              "      <td>666</td>\n",
              "      <td>20.2</td>\n",
              "      <td>376.11</td>\n",
              "      <td>20.31</td>\n",
              "      <td>12.1</td>\n",
              "    </tr>\n",
              "  </tbody>\n",
              "</table>\n",
              "</div>\n",
              "      <button class=\"colab-df-convert\" onclick=\"convertToInteractive('df-fa986af4-a6b5-45e3-8302-3e87f57f4b13')\"\n",
              "              title=\"Convert this dataframe to an interactive table.\"\n",
              "              style=\"display:none;\">\n",
              "        \n",
              "  <svg xmlns=\"http://www.w3.org/2000/svg\" height=\"24px\"viewBox=\"0 0 24 24\"\n",
              "       width=\"24px\">\n",
              "    <path d=\"M0 0h24v24H0V0z\" fill=\"none\"/>\n",
              "    <path d=\"M18.56 5.44l.94 2.06.94-2.06 2.06-.94-2.06-.94-.94-2.06-.94 2.06-2.06.94zm-11 1L8.5 8.5l.94-2.06 2.06-.94-2.06-.94L8.5 2.5l-.94 2.06-2.06.94zm10 10l.94 2.06.94-2.06 2.06-.94-2.06-.94-.94-2.06-.94 2.06-2.06.94z\"/><path d=\"M17.41 7.96l-1.37-1.37c-.4-.4-.92-.59-1.43-.59-.52 0-1.04.2-1.43.59L10.3 9.45l-7.72 7.72c-.78.78-.78 2.05 0 2.83L4 21.41c.39.39.9.59 1.41.59.51 0 1.02-.2 1.41-.59l7.78-7.78 2.81-2.81c.8-.78.8-2.07 0-2.86zM5.41 20L4 18.59l7.72-7.72 1.47 1.35L5.41 20z\"/>\n",
              "  </svg>\n",
              "      </button>\n",
              "      \n",
              "  <style>\n",
              "    .colab-df-container {\n",
              "      display:flex;\n",
              "      flex-wrap:wrap;\n",
              "      gap: 12px;\n",
              "    }\n",
              "\n",
              "    .colab-df-convert {\n",
              "      background-color: #E8F0FE;\n",
              "      border: none;\n",
              "      border-radius: 50%;\n",
              "      cursor: pointer;\n",
              "      display: none;\n",
              "      fill: #1967D2;\n",
              "      height: 32px;\n",
              "      padding: 0 0 0 0;\n",
              "      width: 32px;\n",
              "    }\n",
              "\n",
              "    .colab-df-convert:hover {\n",
              "      background-color: #E2EBFA;\n",
              "      box-shadow: 0px 1px 2px rgba(60, 64, 67, 0.3), 0px 1px 3px 1px rgba(60, 64, 67, 0.15);\n",
              "      fill: #174EA6;\n",
              "    }\n",
              "\n",
              "    [theme=dark] .colab-df-convert {\n",
              "      background-color: #3B4455;\n",
              "      fill: #D2E3FC;\n",
              "    }\n",
              "\n",
              "    [theme=dark] .colab-df-convert:hover {\n",
              "      background-color: #434B5C;\n",
              "      box-shadow: 0px 1px 3px 1px rgba(0, 0, 0, 0.15);\n",
              "      filter: drop-shadow(0px 1px 2px rgba(0, 0, 0, 0.3));\n",
              "      fill: #FFFFFF;\n",
              "    }\n",
              "  </style>\n",
              "\n",
              "      <script>\n",
              "        const buttonEl =\n",
              "          document.querySelector('#df-fa986af4-a6b5-45e3-8302-3e87f57f4b13 button.colab-df-convert');\n",
              "        buttonEl.style.display =\n",
              "          google.colab.kernel.accessAllowed ? 'block' : 'none';\n",
              "\n",
              "        async function convertToInteractive(key) {\n",
              "          const element = document.querySelector('#df-fa986af4-a6b5-45e3-8302-3e87f57f4b13');\n",
              "          const dataTable =\n",
              "            await google.colab.kernel.invokeFunction('convertToInteractive',\n",
              "                                                     [key], {});\n",
              "          if (!dataTable) return;\n",
              "\n",
              "          const docLinkHtml = 'Like what you see? Visit the ' +\n",
              "            '<a target=\"_blank\" href=https://colab.research.google.com/notebooks/data_table.ipynb>data table notebook</a>'\n",
              "            + ' to learn more about interactive tables.';\n",
              "          element.innerHTML = '';\n",
              "          dataTable['output_type'] = 'display_data';\n",
              "          await google.colab.output.renderOutput(dataTable, element);\n",
              "          const docLink = document.createElement('div');\n",
              "          docLink.innerHTML = docLinkHtml;\n",
              "          element.appendChild(docLink);\n",
              "        }\n",
              "      </script>\n",
              "    </div>\n",
              "  </div>\n",
              "  "
            ]
          },
          "metadata": {},
          "execution_count": 4
        }
      ]
    },
    {
      "cell_type": "code",
      "source": [
        "boston_test = pd.read_csv('boston_test.csv')\n",
        "boston_test.head()"
      ],
      "metadata": {
        "id": "9pT-D286aHni",
        "colab": {
          "base_uri": "https://localhost:8080/",
          "height": 206
        },
        "outputId": "8296e19a-fd20-4a1f-ffce-4cb15ef7e910"
      },
      "execution_count": null,
      "outputs": [
        {
          "output_type": "execute_result",
          "data": {
            "text/plain": [
              "       CRIM    ZN  INDUS  CHAS     NOX     RM    AGE     DIS  RAD  TAX  \\\n",
              "0   0.01951  17.5   1.38     0  0.4161  7.104   59.5  9.2229    3  216   \n",
              "1   0.14866   0.0   8.56     0  0.5200  6.727   79.9  2.7778    5  384   \n",
              "2  25.04610   0.0  18.10     0  0.6930  5.987  100.0  1.5888   24  666   \n",
              "3   3.67367   0.0  18.10     0  0.5830  6.312   51.9  3.9917   24  666   \n",
              "4   9.51363   0.0  18.10     0  0.7130  6.728   94.1  2.4961   24  666   \n",
              "\n",
              "   PTRATIO       B  LSTAT  PRICE  \n",
              "0     18.6  393.24   8.05   33.0  \n",
              "1     20.9  394.76   9.42   27.5  \n",
              "2     20.2  396.90  26.77    5.6  \n",
              "3     20.2  388.62  10.58   21.2  \n",
              "4     20.2    6.68  18.71   14.9  "
            ],
            "text/html": [
              "\n",
              "  <div id=\"df-897451c8-e928-4f05-b62e-b65fa62761ad\">\n",
              "    <div class=\"colab-df-container\">\n",
              "      <div>\n",
              "<style scoped>\n",
              "    .dataframe tbody tr th:only-of-type {\n",
              "        vertical-align: middle;\n",
              "    }\n",
              "\n",
              "    .dataframe tbody tr th {\n",
              "        vertical-align: top;\n",
              "    }\n",
              "\n",
              "    .dataframe thead th {\n",
              "        text-align: right;\n",
              "    }\n",
              "</style>\n",
              "<table border=\"1\" class=\"dataframe\">\n",
              "  <thead>\n",
              "    <tr style=\"text-align: right;\">\n",
              "      <th></th>\n",
              "      <th>CRIM</th>\n",
              "      <th>ZN</th>\n",
              "      <th>INDUS</th>\n",
              "      <th>CHAS</th>\n",
              "      <th>NOX</th>\n",
              "      <th>RM</th>\n",
              "      <th>AGE</th>\n",
              "      <th>DIS</th>\n",
              "      <th>RAD</th>\n",
              "      <th>TAX</th>\n",
              "      <th>PTRATIO</th>\n",
              "      <th>B</th>\n",
              "      <th>LSTAT</th>\n",
              "      <th>PRICE</th>\n",
              "    </tr>\n",
              "  </thead>\n",
              "  <tbody>\n",
              "    <tr>\n",
              "      <th>0</th>\n",
              "      <td>0.01951</td>\n",
              "      <td>17.5</td>\n",
              "      <td>1.38</td>\n",
              "      <td>0</td>\n",
              "      <td>0.4161</td>\n",
              "      <td>7.104</td>\n",
              "      <td>59.5</td>\n",
              "      <td>9.2229</td>\n",
              "      <td>3</td>\n",
              "      <td>216</td>\n",
              "      <td>18.6</td>\n",
              "      <td>393.24</td>\n",
              "      <td>8.05</td>\n",
              "      <td>33.0</td>\n",
              "    </tr>\n",
              "    <tr>\n",
              "      <th>1</th>\n",
              "      <td>0.14866</td>\n",
              "      <td>0.0</td>\n",
              "      <td>8.56</td>\n",
              "      <td>0</td>\n",
              "      <td>0.5200</td>\n",
              "      <td>6.727</td>\n",
              "      <td>79.9</td>\n",
              "      <td>2.7778</td>\n",
              "      <td>5</td>\n",
              "      <td>384</td>\n",
              "      <td>20.9</td>\n",
              "      <td>394.76</td>\n",
              "      <td>9.42</td>\n",
              "      <td>27.5</td>\n",
              "    </tr>\n",
              "    <tr>\n",
              "      <th>2</th>\n",
              "      <td>25.04610</td>\n",
              "      <td>0.0</td>\n",
              "      <td>18.10</td>\n",
              "      <td>0</td>\n",
              "      <td>0.6930</td>\n",
              "      <td>5.987</td>\n",
              "      <td>100.0</td>\n",
              "      <td>1.5888</td>\n",
              "      <td>24</td>\n",
              "      <td>666</td>\n",
              "      <td>20.2</td>\n",
              "      <td>396.90</td>\n",
              "      <td>26.77</td>\n",
              "      <td>5.6</td>\n",
              "    </tr>\n",
              "    <tr>\n",
              "      <th>3</th>\n",
              "      <td>3.67367</td>\n",
              "      <td>0.0</td>\n",
              "      <td>18.10</td>\n",
              "      <td>0</td>\n",
              "      <td>0.5830</td>\n",
              "      <td>6.312</td>\n",
              "      <td>51.9</td>\n",
              "      <td>3.9917</td>\n",
              "      <td>24</td>\n",
              "      <td>666</td>\n",
              "      <td>20.2</td>\n",
              "      <td>388.62</td>\n",
              "      <td>10.58</td>\n",
              "      <td>21.2</td>\n",
              "    </tr>\n",
              "    <tr>\n",
              "      <th>4</th>\n",
              "      <td>9.51363</td>\n",
              "      <td>0.0</td>\n",
              "      <td>18.10</td>\n",
              "      <td>0</td>\n",
              "      <td>0.7130</td>\n",
              "      <td>6.728</td>\n",
              "      <td>94.1</td>\n",
              "      <td>2.4961</td>\n",
              "      <td>24</td>\n",
              "      <td>666</td>\n",
              "      <td>20.2</td>\n",
              "      <td>6.68</td>\n",
              "      <td>18.71</td>\n",
              "      <td>14.9</td>\n",
              "    </tr>\n",
              "  </tbody>\n",
              "</table>\n",
              "</div>\n",
              "      <button class=\"colab-df-convert\" onclick=\"convertToInteractive('df-897451c8-e928-4f05-b62e-b65fa62761ad')\"\n",
              "              title=\"Convert this dataframe to an interactive table.\"\n",
              "              style=\"display:none;\">\n",
              "        \n",
              "  <svg xmlns=\"http://www.w3.org/2000/svg\" height=\"24px\"viewBox=\"0 0 24 24\"\n",
              "       width=\"24px\">\n",
              "    <path d=\"M0 0h24v24H0V0z\" fill=\"none\"/>\n",
              "    <path d=\"M18.56 5.44l.94 2.06.94-2.06 2.06-.94-2.06-.94-.94-2.06-.94 2.06-2.06.94zm-11 1L8.5 8.5l.94-2.06 2.06-.94-2.06-.94L8.5 2.5l-.94 2.06-2.06.94zm10 10l.94 2.06.94-2.06 2.06-.94-2.06-.94-.94-2.06-.94 2.06-2.06.94z\"/><path d=\"M17.41 7.96l-1.37-1.37c-.4-.4-.92-.59-1.43-.59-.52 0-1.04.2-1.43.59L10.3 9.45l-7.72 7.72c-.78.78-.78 2.05 0 2.83L4 21.41c.39.39.9.59 1.41.59.51 0 1.02-.2 1.41-.59l7.78-7.78 2.81-2.81c.8-.78.8-2.07 0-2.86zM5.41 20L4 18.59l7.72-7.72 1.47 1.35L5.41 20z\"/>\n",
              "  </svg>\n",
              "      </button>\n",
              "      \n",
              "  <style>\n",
              "    .colab-df-container {\n",
              "      display:flex;\n",
              "      flex-wrap:wrap;\n",
              "      gap: 12px;\n",
              "    }\n",
              "\n",
              "    .colab-df-convert {\n",
              "      background-color: #E8F0FE;\n",
              "      border: none;\n",
              "      border-radius: 50%;\n",
              "      cursor: pointer;\n",
              "      display: none;\n",
              "      fill: #1967D2;\n",
              "      height: 32px;\n",
              "      padding: 0 0 0 0;\n",
              "      width: 32px;\n",
              "    }\n",
              "\n",
              "    .colab-df-convert:hover {\n",
              "      background-color: #E2EBFA;\n",
              "      box-shadow: 0px 1px 2px rgba(60, 64, 67, 0.3), 0px 1px 3px 1px rgba(60, 64, 67, 0.15);\n",
              "      fill: #174EA6;\n",
              "    }\n",
              "\n",
              "    [theme=dark] .colab-df-convert {\n",
              "      background-color: #3B4455;\n",
              "      fill: #D2E3FC;\n",
              "    }\n",
              "\n",
              "    [theme=dark] .colab-df-convert:hover {\n",
              "      background-color: #434B5C;\n",
              "      box-shadow: 0px 1px 3px 1px rgba(0, 0, 0, 0.15);\n",
              "      filter: drop-shadow(0px 1px 2px rgba(0, 0, 0, 0.3));\n",
              "      fill: #FFFFFF;\n",
              "    }\n",
              "  </style>\n",
              "\n",
              "      <script>\n",
              "        const buttonEl =\n",
              "          document.querySelector('#df-897451c8-e928-4f05-b62e-b65fa62761ad button.colab-df-convert');\n",
              "        buttonEl.style.display =\n",
              "          google.colab.kernel.accessAllowed ? 'block' : 'none';\n",
              "\n",
              "        async function convertToInteractive(key) {\n",
              "          const element = document.querySelector('#df-897451c8-e928-4f05-b62e-b65fa62761ad');\n",
              "          const dataTable =\n",
              "            await google.colab.kernel.invokeFunction('convertToInteractive',\n",
              "                                                     [key], {});\n",
              "          if (!dataTable) return;\n",
              "\n",
              "          const docLinkHtml = 'Like what you see? Visit the ' +\n",
              "            '<a target=\"_blank\" href=https://colab.research.google.com/notebooks/data_table.ipynb>data table notebook</a>'\n",
              "            + ' to learn more about interactive tables.';\n",
              "          element.innerHTML = '';\n",
              "          dataTable['output_type'] = 'display_data';\n",
              "          await google.colab.output.renderOutput(dataTable, element);\n",
              "          const docLink = document.createElement('div');\n",
              "          docLink.innerHTML = docLinkHtml;\n",
              "          element.appendChild(docLink);\n",
              "        }\n",
              "      </script>\n",
              "    </div>\n",
              "  </div>\n",
              "  "
            ]
          },
          "metadata": {},
          "execution_count": 5
        }
      ]
    },
    {
      "cell_type": "code",
      "source": [
        "print(boston_train.shape)\n",
        "print(boston_test.shape)"
      ],
      "metadata": {
        "id": "prw3atljahH6",
        "colab": {
          "base_uri": "https://localhost:8080/"
        },
        "outputId": "cd32e294-4a1e-4690-c4d3-58bcce30f097"
      },
      "execution_count": null,
      "outputs": [
        {
          "output_type": "stream",
          "name": "stdout",
          "text": [
            "(404, 14)\n",
            "(102, 14)\n"
          ]
        }
      ]
    },
    {
      "cell_type": "code",
      "source": [
        "boston_train.dtypes"
      ],
      "metadata": {
        "id": "AncJo4_gaHlR",
        "colab": {
          "base_uri": "https://localhost:8080/"
        },
        "outputId": "d31e0e0c-fbd6-4134-9441-0d07a4604ba7"
      },
      "execution_count": null,
      "outputs": [
        {
          "output_type": "execute_result",
          "data": {
            "text/plain": [
              "CRIM       float64\n",
              "ZN         float64\n",
              "INDUS      float64\n",
              "CHAS         int64\n",
              "NOX        float64\n",
              "RM         float64\n",
              "AGE        float64\n",
              "DIS        float64\n",
              "RAD          int64\n",
              "TAX          int64\n",
              "PTRATIO    float64\n",
              "B          float64\n",
              "LSTAT      float64\n",
              "PRICE      float64\n",
              "dtype: object"
            ]
          },
          "metadata": {},
          "execution_count": 7
        }
      ]
    },
    {
      "cell_type": "code",
      "source": [
        "boston_train = boston_train.astype({'CHAS':'float','RAD':'float', 'TAX':'float'})"
      ],
      "metadata": {
        "id": "Lm-WTRo4TNU0"
      },
      "execution_count": null,
      "outputs": []
    },
    {
      "cell_type": "code",
      "source": [
        "boston_test = boston_test.astype({'CHAS':'float','RAD':'float', 'TAX':'float'})"
      ],
      "metadata": {
        "id": "HEKKLphPhk8d"
      },
      "execution_count": null,
      "outputs": []
    },
    {
      "cell_type": "code",
      "source": [
        "X_train = boston_train.drop(['PRICE'], axis=1)\n",
        "X_test = boston_test.drop(['PRICE'], axis=1)\n",
        "y_train = boston_train['PRICE']\n",
        "y_test = boston_test['PRICE']"
      ],
      "metadata": {
        "id": "Txgz7lUdkRHK"
      },
      "execution_count": null,
      "outputs": []
    },
    {
      "cell_type": "code",
      "source": [
        "boston_train.nunique()"
      ],
      "metadata": {
        "colab": {
          "base_uri": "https://localhost:8080/"
        },
        "id": "77vFXCe2UypO",
        "outputId": "7d00723a-f356-4784-8b21-fa3b1b7c791f"
      },
      "execution_count": null,
      "outputs": [
        {
          "output_type": "execute_result",
          "data": {
            "text/plain": [
              "CRIM       402\n",
              "ZN          24\n",
              "INDUS       70\n",
              "CHAS         2\n",
              "NOX         80\n",
              "RM         368\n",
              "AGE        300\n",
              "DIS        343\n",
              "RAD          9\n",
              "TAX         62\n",
              "PTRATIO     44\n",
              "B          285\n",
              "LSTAT      375\n",
              "PRICE      202\n",
              "dtype: int64"
            ]
          },
          "metadata": {},
          "execution_count": 11
        }
      ]
    },
    {
      "cell_type": "code",
      "source": [
        "boston_train.describe()"
      ],
      "metadata": {
        "colab": {
          "base_uri": "https://localhost:8080/",
          "height": 300
        },
        "id": "XZff3hjpUykx",
        "outputId": "01538bac-a601-4bab-ee84-f778b371b60d"
      },
      "execution_count": null,
      "outputs": [
        {
          "output_type": "execute_result",
          "data": {
            "text/plain": [
              "             CRIM          ZN       INDUS        CHAS         NOX          RM  \\\n",
              "count  404.000000  404.000000  404.000000  404.000000  404.000000  404.000000   \n",
              "mean     3.423852   10.818069   11.168911    0.071782    0.556195    6.278074   \n",
              "std      8.197229   23.061649    6.798110    0.258447    0.116187    0.691061   \n",
              "min      0.006320    0.000000    0.460000    0.000000    0.385000    3.561000   \n",
              "25%      0.082598    0.000000    5.190000    0.000000    0.453000    5.888000   \n",
              "50%      0.260420    0.000000    9.690000    0.000000    0.538000    6.198500   \n",
              "75%      3.694070    3.125000   18.100000    0.000000    0.624000    6.616500   \n",
              "max     88.976200   95.000000   27.740000    1.000000    0.871000    8.780000   \n",
              "\n",
              "              AGE         DIS         RAD         TAX     PTRATIO           B  \\\n",
              "count  404.000000  404.000000  404.000000  404.000000  404.000000  404.000000   \n",
              "mean    68.979455    3.724405    9.551980  407.712871   18.458911  353.866139   \n",
              "std     27.692028    1.983793    8.741662  169.344926    2.152993   95.592190   \n",
              "min      2.900000    1.129600    1.000000  188.000000   12.600000    0.320000   \n",
              "25%     45.800000    2.110500    4.000000  278.500000   17.400000  374.527500   \n",
              "50%     77.150000    3.207450    5.000000  330.000000   19.000000  391.880000   \n",
              "75%     93.900000    5.104475   24.000000  666.000000   20.200000  396.285000   \n",
              "max    100.000000   10.585700   24.000000  711.000000   22.000000  396.900000   \n",
              "\n",
              "            LSTAT       PRICE  \n",
              "count  404.000000  404.000000  \n",
              "mean    12.768267   22.409901  \n",
              "std      7.170852    8.940920  \n",
              "min      1.730000    6.300000  \n",
              "25%      7.135000   17.175000  \n",
              "50%     11.675000   20.950000  \n",
              "75%     16.605000   25.000000  \n",
              "max     37.970000   50.000000  "
            ],
            "text/html": [
              "\n",
              "  <div id=\"df-03ab070b-d07e-40f1-b5e0-ab1ced16456d\">\n",
              "    <div class=\"colab-df-container\">\n",
              "      <div>\n",
              "<style scoped>\n",
              "    .dataframe tbody tr th:only-of-type {\n",
              "        vertical-align: middle;\n",
              "    }\n",
              "\n",
              "    .dataframe tbody tr th {\n",
              "        vertical-align: top;\n",
              "    }\n",
              "\n",
              "    .dataframe thead th {\n",
              "        text-align: right;\n",
              "    }\n",
              "</style>\n",
              "<table border=\"1\" class=\"dataframe\">\n",
              "  <thead>\n",
              "    <tr style=\"text-align: right;\">\n",
              "      <th></th>\n",
              "      <th>CRIM</th>\n",
              "      <th>ZN</th>\n",
              "      <th>INDUS</th>\n",
              "      <th>CHAS</th>\n",
              "      <th>NOX</th>\n",
              "      <th>RM</th>\n",
              "      <th>AGE</th>\n",
              "      <th>DIS</th>\n",
              "      <th>RAD</th>\n",
              "      <th>TAX</th>\n",
              "      <th>PTRATIO</th>\n",
              "      <th>B</th>\n",
              "      <th>LSTAT</th>\n",
              "      <th>PRICE</th>\n",
              "    </tr>\n",
              "  </thead>\n",
              "  <tbody>\n",
              "    <tr>\n",
              "      <th>count</th>\n",
              "      <td>404.000000</td>\n",
              "      <td>404.000000</td>\n",
              "      <td>404.000000</td>\n",
              "      <td>404.000000</td>\n",
              "      <td>404.000000</td>\n",
              "      <td>404.000000</td>\n",
              "      <td>404.000000</td>\n",
              "      <td>404.000000</td>\n",
              "      <td>404.000000</td>\n",
              "      <td>404.000000</td>\n",
              "      <td>404.000000</td>\n",
              "      <td>404.000000</td>\n",
              "      <td>404.000000</td>\n",
              "      <td>404.000000</td>\n",
              "    </tr>\n",
              "    <tr>\n",
              "      <th>mean</th>\n",
              "      <td>3.423852</td>\n",
              "      <td>10.818069</td>\n",
              "      <td>11.168911</td>\n",
              "      <td>0.071782</td>\n",
              "      <td>0.556195</td>\n",
              "      <td>6.278074</td>\n",
              "      <td>68.979455</td>\n",
              "      <td>3.724405</td>\n",
              "      <td>9.551980</td>\n",
              "      <td>407.712871</td>\n",
              "      <td>18.458911</td>\n",
              "      <td>353.866139</td>\n",
              "      <td>12.768267</td>\n",
              "      <td>22.409901</td>\n",
              "    </tr>\n",
              "    <tr>\n",
              "      <th>std</th>\n",
              "      <td>8.197229</td>\n",
              "      <td>23.061649</td>\n",
              "      <td>6.798110</td>\n",
              "      <td>0.258447</td>\n",
              "      <td>0.116187</td>\n",
              "      <td>0.691061</td>\n",
              "      <td>27.692028</td>\n",
              "      <td>1.983793</td>\n",
              "      <td>8.741662</td>\n",
              "      <td>169.344926</td>\n",
              "      <td>2.152993</td>\n",
              "      <td>95.592190</td>\n",
              "      <td>7.170852</td>\n",
              "      <td>8.940920</td>\n",
              "    </tr>\n",
              "    <tr>\n",
              "      <th>min</th>\n",
              "      <td>0.006320</td>\n",
              "      <td>0.000000</td>\n",
              "      <td>0.460000</td>\n",
              "      <td>0.000000</td>\n",
              "      <td>0.385000</td>\n",
              "      <td>3.561000</td>\n",
              "      <td>2.900000</td>\n",
              "      <td>1.129600</td>\n",
              "      <td>1.000000</td>\n",
              "      <td>188.000000</td>\n",
              "      <td>12.600000</td>\n",
              "      <td>0.320000</td>\n",
              "      <td>1.730000</td>\n",
              "      <td>6.300000</td>\n",
              "    </tr>\n",
              "    <tr>\n",
              "      <th>25%</th>\n",
              "      <td>0.082598</td>\n",
              "      <td>0.000000</td>\n",
              "      <td>5.190000</td>\n",
              "      <td>0.000000</td>\n",
              "      <td>0.453000</td>\n",
              "      <td>5.888000</td>\n",
              "      <td>45.800000</td>\n",
              "      <td>2.110500</td>\n",
              "      <td>4.000000</td>\n",
              "      <td>278.500000</td>\n",
              "      <td>17.400000</td>\n",
              "      <td>374.527500</td>\n",
              "      <td>7.135000</td>\n",
              "      <td>17.175000</td>\n",
              "    </tr>\n",
              "    <tr>\n",
              "      <th>50%</th>\n",
              "      <td>0.260420</td>\n",
              "      <td>0.000000</td>\n",
              "      <td>9.690000</td>\n",
              "      <td>0.000000</td>\n",
              "      <td>0.538000</td>\n",
              "      <td>6.198500</td>\n",
              "      <td>77.150000</td>\n",
              "      <td>3.207450</td>\n",
              "      <td>5.000000</td>\n",
              "      <td>330.000000</td>\n",
              "      <td>19.000000</td>\n",
              "      <td>391.880000</td>\n",
              "      <td>11.675000</td>\n",
              "      <td>20.950000</td>\n",
              "    </tr>\n",
              "    <tr>\n",
              "      <th>75%</th>\n",
              "      <td>3.694070</td>\n",
              "      <td>3.125000</td>\n",
              "      <td>18.100000</td>\n",
              "      <td>0.000000</td>\n",
              "      <td>0.624000</td>\n",
              "      <td>6.616500</td>\n",
              "      <td>93.900000</td>\n",
              "      <td>5.104475</td>\n",
              "      <td>24.000000</td>\n",
              "      <td>666.000000</td>\n",
              "      <td>20.200000</td>\n",
              "      <td>396.285000</td>\n",
              "      <td>16.605000</td>\n",
              "      <td>25.000000</td>\n",
              "    </tr>\n",
              "    <tr>\n",
              "      <th>max</th>\n",
              "      <td>88.976200</td>\n",
              "      <td>95.000000</td>\n",
              "      <td>27.740000</td>\n",
              "      <td>1.000000</td>\n",
              "      <td>0.871000</td>\n",
              "      <td>8.780000</td>\n",
              "      <td>100.000000</td>\n",
              "      <td>10.585700</td>\n",
              "      <td>24.000000</td>\n",
              "      <td>711.000000</td>\n",
              "      <td>22.000000</td>\n",
              "      <td>396.900000</td>\n",
              "      <td>37.970000</td>\n",
              "      <td>50.000000</td>\n",
              "    </tr>\n",
              "  </tbody>\n",
              "</table>\n",
              "</div>\n",
              "      <button class=\"colab-df-convert\" onclick=\"convertToInteractive('df-03ab070b-d07e-40f1-b5e0-ab1ced16456d')\"\n",
              "              title=\"Convert this dataframe to an interactive table.\"\n",
              "              style=\"display:none;\">\n",
              "        \n",
              "  <svg xmlns=\"http://www.w3.org/2000/svg\" height=\"24px\"viewBox=\"0 0 24 24\"\n",
              "       width=\"24px\">\n",
              "    <path d=\"M0 0h24v24H0V0z\" fill=\"none\"/>\n",
              "    <path d=\"M18.56 5.44l.94 2.06.94-2.06 2.06-.94-2.06-.94-.94-2.06-.94 2.06-2.06.94zm-11 1L8.5 8.5l.94-2.06 2.06-.94-2.06-.94L8.5 2.5l-.94 2.06-2.06.94zm10 10l.94 2.06.94-2.06 2.06-.94-2.06-.94-.94-2.06-.94 2.06-2.06.94z\"/><path d=\"M17.41 7.96l-1.37-1.37c-.4-.4-.92-.59-1.43-.59-.52 0-1.04.2-1.43.59L10.3 9.45l-7.72 7.72c-.78.78-.78 2.05 0 2.83L4 21.41c.39.39.9.59 1.41.59.51 0 1.02-.2 1.41-.59l7.78-7.78 2.81-2.81c.8-.78.8-2.07 0-2.86zM5.41 20L4 18.59l7.72-7.72 1.47 1.35L5.41 20z\"/>\n",
              "  </svg>\n",
              "      </button>\n",
              "      \n",
              "  <style>\n",
              "    .colab-df-container {\n",
              "      display:flex;\n",
              "      flex-wrap:wrap;\n",
              "      gap: 12px;\n",
              "    }\n",
              "\n",
              "    .colab-df-convert {\n",
              "      background-color: #E8F0FE;\n",
              "      border: none;\n",
              "      border-radius: 50%;\n",
              "      cursor: pointer;\n",
              "      display: none;\n",
              "      fill: #1967D2;\n",
              "      height: 32px;\n",
              "      padding: 0 0 0 0;\n",
              "      width: 32px;\n",
              "    }\n",
              "\n",
              "    .colab-df-convert:hover {\n",
              "      background-color: #E2EBFA;\n",
              "      box-shadow: 0px 1px 2px rgba(60, 64, 67, 0.3), 0px 1px 3px 1px rgba(60, 64, 67, 0.15);\n",
              "      fill: #174EA6;\n",
              "    }\n",
              "\n",
              "    [theme=dark] .colab-df-convert {\n",
              "      background-color: #3B4455;\n",
              "      fill: #D2E3FC;\n",
              "    }\n",
              "\n",
              "    [theme=dark] .colab-df-convert:hover {\n",
              "      background-color: #434B5C;\n",
              "      box-shadow: 0px 1px 3px 1px rgba(0, 0, 0, 0.15);\n",
              "      filter: drop-shadow(0px 1px 2px rgba(0, 0, 0, 0.3));\n",
              "      fill: #FFFFFF;\n",
              "    }\n",
              "  </style>\n",
              "\n",
              "      <script>\n",
              "        const buttonEl =\n",
              "          document.querySelector('#df-03ab070b-d07e-40f1-b5e0-ab1ced16456d button.colab-df-convert');\n",
              "        buttonEl.style.display =\n",
              "          google.colab.kernel.accessAllowed ? 'block' : 'none';\n",
              "\n",
              "        async function convertToInteractive(key) {\n",
              "          const element = document.querySelector('#df-03ab070b-d07e-40f1-b5e0-ab1ced16456d');\n",
              "          const dataTable =\n",
              "            await google.colab.kernel.invokeFunction('convertToInteractive',\n",
              "                                                     [key], {});\n",
              "          if (!dataTable) return;\n",
              "\n",
              "          const docLinkHtml = 'Like what you see? Visit the ' +\n",
              "            '<a target=\"_blank\" href=https://colab.research.google.com/notebooks/data_table.ipynb>data table notebook</a>'\n",
              "            + ' to learn more about interactive tables.';\n",
              "          element.innerHTML = '';\n",
              "          dataTable['output_type'] = 'display_data';\n",
              "          await google.colab.output.renderOutput(dataTable, element);\n",
              "          const docLink = document.createElement('div');\n",
              "          docLink.innerHTML = docLinkHtml;\n",
              "          element.appendChild(docLink);\n",
              "        }\n",
              "      </script>\n",
              "    </div>\n",
              "  </div>\n",
              "  "
            ]
          },
          "metadata": {},
          "execution_count": 12
        }
      ]
    },
    {
      "cell_type": "markdown",
      "source": [
        "## Eksplorasi"
      ],
      "metadata": {
        "id": "FCd3dFWf-5l2"
      }
    },
    {
      "cell_type": "code",
      "source": [
        "# Generate and visualize the correlation matrix\n",
        "corr = boston_train.corr().round(2)\n",
        "\n",
        "# Mask for the upper triangle\n",
        "mask = np.zeros_like(corr, dtype=np.bool)\n",
        "mask[np.triu_indices_from(mask)] = True\n",
        "\n",
        "# Set figure size\n",
        "f, ax = plt.subplots(figsize=(10, 8))\n",
        "\n",
        "# Define custom colormap\n",
        "cmap = sns.diverging_palette(220, 10, as_cmap=True)\n",
        "\n",
        "# Draw the heatmap\n",
        "sns.heatmap(corr, mask=mask, cmap=cmap, vmin=-1, vmax=1, center=0,\n",
        "            square=True, linewidths=.5, cbar_kws={\"shrink\": .5}, annot=True)\n",
        "\n",
        "plt.tight_layout()"
      ],
      "metadata": {
        "colab": {
          "base_uri": "https://localhost:8080/",
          "height": 657
        },
        "id": "7ewyb-_pUygt",
        "outputId": "2d9a8afe-80ea-4b1e-b346-54a751251627"
      },
      "execution_count": null,
      "outputs": [
        {
          "output_type": "stream",
          "name": "stderr",
          "text": [
            "/usr/local/lib/python3.7/dist-packages/ipykernel_launcher.py:5: DeprecationWarning: `np.bool` is a deprecated alias for the builtin `bool`. To silence this warning, use `bool` by itself. Doing this will not modify any behavior and is safe. If you specifically wanted the numpy scalar type, use `np.bool_` here.\n",
            "Deprecated in NumPy 1.20; for more details and guidance: https://numpy.org/devdocs/release/1.20.0-notes.html#deprecations\n",
            "  \"\"\"\n"
          ]
        },
        {
          "output_type": "display_data",
          "data": {
            "text/plain": [
              "<Figure size 720x576 with 2 Axes>"
            ],
            "image/png": "[encoded data removed]"
          },
          "metadata": {
            "needs_background": "light"
          }
        }
      ]
    },
    {
      "cell_type": "code",
      "source": [
        "boston_train['PRICE'].plot(kind='box')"
      ],
      "metadata": {
        "colab": {
          "base_uri": "https://localhost:8080/",
          "height": 282
        },
        "id": "iiuG-15ZUydb",
        "outputId": "6af86026-b828-40e5-ada3-25743999ff53"
      },
      "execution_count": null,
      "outputs": [
        {
          "output_type": "execute_result",
          "data": {
            "text/plain": [
              "<matplotlib.axes._subplots.AxesSubplot at 0x7f01ba0ed550>"
            ]
          },
          "metadata": {},
          "execution_count": 14
        },
        {
          "output_type": "display_data",
          "data": {
            "text/plain": [
              "<Figure size 432x288 with 1 Axes>"
            ],
            "image/png": "[encoded data removed]"
          },
          "metadata": {
            "needs_background": "light"
          }
        }
      ]
    },
    {
      "cell_type": "code",
      "source": [
        "# from sklearn.model_selection import train_test_split\n",
        "# X_train, X_test, y_train, y_test=train_test_split(X,y, test_size=0.3, random_state=7)"
      ],
      "metadata": {
        "id": "PrHHCnEmUyaL"
      },
      "execution_count": null,
      "outputs": []
    },
    {
      "cell_type": "markdown",
      "source": [
        "## Pemodelan"
      ],
      "metadata": {
        "id": "FCPeteCDz_Iq"
      }
    },
    {
      "cell_type": "code",
      "source": [
        "n_estimators = [5,20,50,100] # number of trees in the random forest\n",
        "max_features = ['auto', 'sqrt'] # number of features in consideration at every split\n",
        "max_depth = [int(x) for x in np.linspace(10, 120, num = 12)] # maximum number of levels allowed in each decision tree\n",
        "min_samples_split = [2, 6, 10] # minimum sample number to split a node\n",
        "min_samples_leaf = [1, 3, 4] # minimum sample number that can be stored in a leaf node\n",
        "bootstrap = [True, False] # method used to sample data points\n",
        "\n",
        "random_grid = {'n_estimators': n_estimators,\n",
        "\n",
        "'max_features': max_features,\n",
        "\n",
        "'max_depth': max_depth,\n",
        "\n",
        "'min_samples_split': min_samples_split,\n",
        "\n",
        "'min_samples_leaf': min_samples_leaf,\n",
        "\n",
        "'bootstrap': bootstrap}"
      ],
      "metadata": {
        "id": "tfH0DhqkXVe4"
      },
      "execution_count": null,
      "outputs": []
    },
    {
      "cell_type": "code",
      "source": [
        "from sklearn.ensemble import RandomForestRegressor\n",
        "\n",
        "rf_model = RandomForestRegressor()\n",
        "rf_model.fit(X_train, y_train) "
      ],
      "metadata": {
        "colab": {
          "base_uri": "https://localhost:8080/"
        },
        "id": "3i8hxuNeqnZ5",
        "outputId": "7bbd9670-4ad1-4852-b29c-69aa4959c2c2"
      },
      "execution_count": null,
      "outputs": [
        {
          "output_type": "execute_result",
          "data": {
            "text/plain": [
              "RandomForestRegressor()"
            ]
          },
          "metadata": {},
          "execution_count": 17
        }
      ]
    },
    {
      "cell_type": "code",
      "source": [
        "from sklearn.model_selection import RandomizedSearchCV\n",
        "\n",
        "def RFR_hyperparameters(x):\n",
        "    random_search = RandomizedSearchCV(\n",
        "        estimator = x,\n",
        "        param_distributions = random_grid,\n",
        "        n_iter = 100,\n",
        "        cv = 5,\n",
        "        verbose=2,\n",
        "        random_state=35,\n",
        "        n_jobs = 4\n",
        "        )\n",
        "        \n",
        "    random_search.fit(X_train, y_train)\n",
        "    return random_search.best_params_\n",
        "\n",
        "def RFR_classifier(x):\n",
        "  params = RFR_hyperparameters(x)\n",
        "  return RandomForestRegressor(**params), params"
      ],
      "metadata": {
        "id": "erHyka953jXS"
      },
      "execution_count": null,
      "outputs": []
    },
    {
      "cell_type": "code",
      "source": [
        "rf_best, params = RFR_classifier(rf_model)\n",
        "rf_best.fit(X_train, y_train)"
      ],
      "metadata": {
        "colab": {
          "base_uri": "https://localhost:8080/"
        },
        "id": "npDQDEQq5iqv",
        "outputId": "c6ef3d5e-8bda-4b20-99c3-34550d3b5ac7"
      },
      "execution_count": null,
      "outputs": [
        {
          "output_type": "stream",
          "name": "stdout",
          "text": [
            "Fitting 5 folds for each of 100 candidates, totalling 500 fits\n"
          ]
        },
        {
          "output_type": "execute_result",
          "data": {
            "text/plain": [
              "RandomForestRegressor(bootstrap=False, max_depth=10, max_features='sqrt')"
            ]
          },
          "metadata": {},
          "execution_count": 19
        }
      ]
    },
    {
      "cell_type": "code",
      "source": [
        "y_pred =  rf_best.predict(X_test)"
      ],
      "metadata": {
        "id": "1k4rhzvGwmr4"
      },
      "execution_count": null,
      "outputs": []
    },
    {
      "cell_type": "code",
      "source": [
        "print ('Random grid: ', random_grid, '\\n')\n",
        "\n",
        "print ('Best Parameters: ', params, ' \\n')"
      ],
      "metadata": {
        "id": "jTwshbAwYMrN",
        "colab": {
          "base_uri": "https://localhost:8080/"
        },
        "outputId": "1676afd4-e48a-4a63-dab9-071a18967109"
      },
      "execution_count": null,
      "outputs": [
        {
          "output_type": "stream",
          "name": "stdout",
          "text": [
            "Random grid:  {'n_estimators': [5, 20, 50, 100], 'max_features': ['auto', 'sqrt'], 'max_depth': [10, 20, 30, 40, 50, 60, 70, 80, 90, 100, 110, 120], 'min_samples_split': [2, 6, 10], 'min_samples_leaf': [1, 3, 4], 'bootstrap': [True, False]} \n",
            "\n",
            "Best Parameters:  {'n_estimators': 100, 'min_samples_split': 2, 'min_samples_leaf': 1, 'max_features': 'sqrt', 'max_depth': 10, 'bootstrap': False}  \n",
            "\n"
          ]
        }
      ]
    },
    {
      "cell_type": "code",
      "source": [
        "y_pred_rf = pd.DataFrame( { \"actual\": y_test, \n",
        "\"predicted_prob\": rf_best.predict((X_test))}) \n",
        "y_pred_rf"
      ],
      "metadata": {
        "id": "ctUcaVrIYtX7",
        "colab": {
          "base_uri": "https://localhost:8080/",
          "height": 423
        },
        "outputId": "23ff8c0a-6ced-4e7d-b42c-931d27e90792"
      },
      "execution_count": null,
      "outputs": [
        {
          "output_type": "execute_result",
          "data": {
            "text/plain": [
              "     actual  predicted_prob\n",
              "0      33.0       30.631054\n",
              "1      27.5       23.241451\n",
              "2       5.6        9.497465\n",
              "3      21.2       21.033573\n",
              "4      14.9       12.989780\n",
              "..      ...             ...\n",
              "97     22.9       24.248512\n",
              "98     30.5       29.828628\n",
              "99     23.3       25.234022\n",
              "100    19.4       19.367320\n",
              "101    23.0       21.981957\n",
              "\n",
              "[102 rows x 2 columns]"
            ],
            "text/html": [
              "\n",
              "  <div id=\"df-5b9b44b9-0743-46e5-8e8c-ee8c0e85a68f\">\n",
              "    <div class=\"colab-df-container\">\n",
              "      <div>\n",
              "<style scoped>\n",
              "    .dataframe tbody tr th:only-of-type {\n",
              "        vertical-align: middle;\n",
              "    }\n",
              "\n",
              "    .dataframe tbody tr th {\n",
              "        vertical-align: top;\n",
              "    }\n",
              "\n",
              "    .dataframe thead th {\n",
              "        text-align: right;\n",
              "    }\n",
              "</style>\n",
              "<table border=\"1\" class=\"dataframe\">\n",
              "  <thead>\n",
              "    <tr style=\"text-align: right;\">\n",
              "      <th></th>\n",
              "      <th>actual</th>\n",
              "      <th>predicted_prob</th>\n",
              "    </tr>\n",
              "  </thead>\n",
              "  <tbody>\n",
              "    <tr>\n",
              "      <th>0</th>\n",
              "      <td>33.0</td>\n",
              "      <td>30.631054</td>\n",
              "    </tr>\n",
              "    <tr>\n",
              "      <th>1</th>\n",
              "      <td>27.5</td>\n",
              "      <td>23.241451</td>\n",
              "    </tr>\n",
              "    <tr>\n",
              "      <th>2</th>\n",
              "      <td>5.6</td>\n",
              "      <td>9.497465</td>\n",
              "    </tr>\n",
              "    <tr>\n",
              "      <th>3</th>\n",
              "      <td>21.2</td>\n",
              "      <td>21.033573</td>\n",
              "    </tr>\n",
              "    <tr>\n",
              "      <th>4</th>\n",
              "      <td>14.9</td>\n",
              "      <td>12.989780</td>\n",
              "    </tr>\n",
              "    <tr>\n",
              "      <th>...</th>\n",
              "      <td>...</td>\n",
              "      <td>...</td>\n",
              "    </tr>\n",
              "    <tr>\n",
              "      <th>97</th>\n",
              "      <td>22.9</td>\n",
              "      <td>24.248512</td>\n",
              "    </tr>\n",
              "    <tr>\n",
              "      <th>98</th>\n",
              "      <td>30.5</td>\n",
              "      <td>29.828628</td>\n",
              "    </tr>\n",
              "    <tr>\n",
              "      <th>99</th>\n",
              "      <td>23.3</td>\n",
              "      <td>25.234022</td>\n",
              "    </tr>\n",
              "    <tr>\n",
              "      <th>100</th>\n",
              "      <td>19.4</td>\n",
              "      <td>19.367320</td>\n",
              "    </tr>\n",
              "    <tr>\n",
              "      <th>101</th>\n",
              "      <td>23.0</td>\n",
              "      <td>21.981957</td>\n",
              "    </tr>\n",
              "  </tbody>\n",
              "</table>\n",
              "<p>102 rows × 2 columns</p>\n",
              "</div>\n",
              "      <button class=\"colab-df-convert\" onclick=\"convertToInteractive('df-5b9b44b9-0743-46e5-8e8c-ee8c0e85a68f')\"\n",
              "              title=\"Convert this dataframe to an interactive table.\"\n",
              "              style=\"display:none;\">\n",
              "        \n",
              "  <svg xmlns=\"http://www.w3.org/2000/svg\" height=\"24px\"viewBox=\"0 0 24 24\"\n",
              "       width=\"24px\">\n",
              "    <path d=\"M0 0h24v24H0V0z\" fill=\"none\"/>\n",
              "    <path d=\"M18.56 5.44l.94 2.06.94-2.06 2.06-.94-2.06-.94-.94-2.06-.94 2.06-2.06.94zm-11 1L8.5 8.5l.94-2.06 2.06-.94-2.06-.94L8.5 2.5l-.94 2.06-2.06.94zm10 10l.94 2.06.94-2.06 2.06-.94-2.06-.94-.94-2.06-.94 2.06-2.06.94z\"/><path d=\"M17.41 7.96l-1.37-1.37c-.4-.4-.92-.59-1.43-.59-.52 0-1.04.2-1.43.59L10.3 9.45l-7.72 7.72c-.78.78-.78 2.05 0 2.83L4 21.41c.39.39.9.59 1.41.59.51 0 1.02-.2 1.41-.59l7.78-7.78 2.81-2.81c.8-.78.8-2.07 0-2.86zM5.41 20L4 18.59l7.72-7.72 1.47 1.35L5.41 20z\"/>\n",
              "  </svg>\n",
              "      </button>\n",
              "      \n",
              "  <style>\n",
              "    .colab-df-container {\n",
              "      display:flex;\n",
              "      flex-wrap:wrap;\n",
              "      gap: 12px;\n",
              "    }\n",
              "\n",
              "    .colab-df-convert {\n",
              "      background-color: #E8F0FE;\n",
              "      border: none;\n",
              "      border-radius: 50%;\n",
              "      cursor: pointer;\n",
              "      display: none;\n",
              "      fill: #1967D2;\n",
              "      height: 32px;\n",
              "      padding: 0 0 0 0;\n",
              "      width: 32px;\n",
              "    }\n",
              "\n",
              "    .colab-df-convert:hover {\n",
              "      background-color: #E2EBFA;\n",
              "      box-shadow: 0px 1px 2px rgba(60, 64, 67, 0.3), 0px 1px 3px 1px rgba(60, 64, 67, 0.15);\n",
              "      fill: #174EA6;\n",
              "    }\n",
              "\n",
              "    [theme=dark] .colab-df-convert {\n",
              "      background-color: #3B4455;\n",
              "      fill: #D2E3FC;\n",
              "    }\n",
              "\n",
              "    [theme=dark] .colab-df-convert:hover {\n",
              "      background-color: #434B5C;\n",
              "      box-shadow: 0px 1px 3px 1px rgba(0, 0, 0, 0.15);\n",
              "      filter: drop-shadow(0px 1px 2px rgba(0, 0, 0, 0.3));\n",
              "      fill: #FFFFFF;\n",
              "    }\n",
              "  </style>\n",
              "\n",
              "      <script>\n",
              "        const buttonEl =\n",
              "          document.querySelector('#df-5b9b44b9-0743-46e5-8e8c-ee8c0e85a68f button.colab-df-convert');\n",
              "        buttonEl.style.display =\n",
              "          google.colab.kernel.accessAllowed ? 'block' : 'none';\n",
              "\n",
              "        async function convertToInteractive(key) {\n",
              "          const element = document.querySelector('#df-5b9b44b9-0743-46e5-8e8c-ee8c0e85a68f');\n",
              "          const dataTable =\n",
              "            await google.colab.kernel.invokeFunction('convertToInteractive',\n",
              "                                                     [key], {});\n",
              "          if (!dataTable) return;\n",
              "\n",
              "          const docLinkHtml = 'Like what you see? Visit the ' +\n",
              "            '<a target=\"_blank\" href=https://colab.research.google.com/notebooks/data_table.ipynb>data table notebook</a>'\n",
              "            + ' to learn more about interactive tables.';\n",
              "          element.innerHTML = '';\n",
              "          dataTable['output_type'] = 'display_data';\n",
              "          await google.colab.output.renderOutput(dataTable, element);\n",
              "          const docLink = document.createElement('div');\n",
              "          docLink.innerHTML = docLinkHtml;\n",
              "          element.appendChild(docLink);\n",
              "        }\n",
              "      </script>\n",
              "    </div>\n",
              "  </div>\n",
              "  "
            ]
          },
          "metadata": {},
          "execution_count": 22
        }
      ]
    },
    {
      "cell_type": "code",
      "source": [
        "from sklearn.metrics import accuracy_score, confusion_matrix, classification_report\n",
        "\n",
        "# View accuracy score\n",
        "acc_rf_model = rf_model.score(X_test, y_test) * 100\n",
        "print(\"Default model accuracy:\",acc_rf_model,\"%\")\n",
        "\n",
        "acc_rf_best = rf_best.score(X_test, y_test) * 100\n",
        "print(\"Best params model accuracy:\",acc_rf_best,\"%\")"
      ],
      "metadata": {
        "id": "hIPDGUq8YtUv",
        "colab": {
          "base_uri": "https://localhost:8080/"
        },
        "outputId": "0e7cc9ad-c671-4cee-ff87-93d7a13f963c"
      },
      "execution_count": null,
      "outputs": [
        {
          "output_type": "stream",
          "name": "stdout",
          "text": [
            "Default model accuracy: 90.93844514679805 %\n",
            "Best params model accuracy: 90.82516171144616 %\n"
          ]
        }
      ]
    },
    {
      "cell_type": "code",
      "source": [
        "from sklearn import metrics\n",
        "\n",
        "# Model Evaluation for Random Forest\n",
        "print('Mean Absolute Error (MAE):', metrics.mean_absolute_error(y_test, y_pred))\n",
        "print('Mean Squared Error (MSE):', metrics.mean_squared_error(y_test, y_pred))\n",
        "print('Root Mean Squared Error (RMSE):', metrics.mean_squared_error(y_test, y_pred, squared=False))\n",
        "print('Mean Absolute Percentage Error (MAPE):', metrics.mean_absolute_percentage_error(y_test, y_pred))\n",
        "print('Explained Variance Score:', metrics.explained_variance_score(y_test, y_pred))\n",
        "print('Max Error:', metrics.max_error(y_test, y_pred))\n",
        "print('Mean Squared Log Error:', metrics.mean_squared_log_error(y_test, y_pred))\n",
        "print('Median Absolute Error:', metrics.median_absolute_error(y_test, y_pred))\n",
        "print('R^2:', metrics.r2_score(y_test, y_pred))\n",
        "print('Mean Poisson Deviance:', metrics.mean_poisson_deviance(y_test, y_pred))\n",
        "print('Mean Gamma Deviance:', metrics.mean_gamma_deviance(y_test, y_pred))"
      ],
      "metadata": {
        "colab": {
          "base_uri": "https://localhost:8080/"
        },
        "id": "EEBVKqAgYtSm",
        "outputId": "116420a2-9537-406a-9faa-a83769a0bec0"
      },
      "execution_count": null,
      "outputs": [
        {
          "output_type": "stream",
          "name": "stdout",
          "text": [
            "Mean Absolute Error (MAE): 2.1390321351909676\n",
            "Mean Squared Error (MSE): 9.417864269411991\n",
            "Root Mean Squared Error (RMSE): 3.0688539016075675\n",
            "Mean Absolute Percentage Error (MAPE): 0.11930885474318847\n",
            "Explained Variance Score: 0.9083365276431556\n",
            "Max Error: 10.96343565323565\n",
            "Mean Squared Log Error: 0.02494725077366524\n",
            "Median Absolute Error: 1.2774732266378672\n",
            "R^2: 0.9082516171144616\n",
            "Mean Poisson Deviance: 0.44889556857089696\n",
            "Mean Gamma Deviance: 0.027781140567264277\n"
          ]
        }
      ]
    },
    {
      "cell_type": "code",
      "source": [
        "# visualize the difference between the actual and predicted price \n",
        "plt.scatter(y_test, y_pred)\n",
        "plt.xlabel(\"Price\")\n",
        "plt.ylabel(\"Predicted Price\")\n",
        "plt.title(\"Predicted Vs Prices\")\n",
        "plt.show()"
      ],
      "metadata": {
        "colab": {
          "base_uri": "https://localhost:8080/",
          "height": 295
        },
        "id": "DjyP8qfVmUDj",
        "outputId": "73750e8c-1cc3-40c4-88a2-4529d4c94148"
      },
      "execution_count": null,
      "outputs": [
        {
          "output_type": "display_data",
          "data": {
            "text/plain": [
              "<Figure size 432x288 with 1 Axes>"
            ],
            "image/png": "[encoded data removed]"
          },
          "metadata": {
            "needs_background": "light"
          }
        }
      ]
    },
    {
      "cell_type": "markdown",
      "source": [
        "# SVM"
      ],
      "metadata": {
        "id": "89t6N86__JBH"
      }
    },
    {
      "cell_type": "markdown",
      "source": [
        "Train the Support Vector Machine without Hyper-parameter Tuning "
      ],
      "metadata": {
        "id": "go21uPif_tpb"
      }
    },
    {
      "cell_type": "markdown",
      "source": [
        "Pertama, kita akan melatih model kita dengan memanggil fungsi SVR() standar tanpa melakukan Penyetelan Hyperparameter dan melihat matriks klasifikasi dan matriks kebingungannya."
      ],
      "metadata": {
        "id": "hJSMXxFD_y-u"
      }
    },
    {
      "cell_type": "code",
      "source": [
        "XX_train = boston_train.drop(['PRICE'], axis=1)\n",
        "XX_test = boston_test.drop(['PRICE'], axis=1)\n",
        "yy_train = boston_train['PRICE']\n",
        "yy_test = boston_test['PRICE']"
      ],
      "metadata": {
        "id": "3NZeT_-qoSXI"
      },
      "execution_count": null,
      "outputs": []
    },
    {
      "cell_type": "code",
      "source": [
        "from sklearn.preprocessing import StandardScaler\n",
        "\n",
        "sc=StandardScaler()\n",
        "XX_train=sc.fit_transform(XX_train)\n",
        "XX_test=sc.fit_transform(XX_test)"
      ],
      "metadata": {
        "id": "eLGP4ntRj3tF"
      },
      "execution_count": null,
      "outputs": []
    },
    {
      "cell_type": "code",
      "source": [
        "from sklearn import svm\n",
        "\n",
        "sv_model = svm.SVR()"
      ],
      "metadata": {
        "id": "0UK8bHupj70t"
      },
      "execution_count": null,
      "outputs": []
    },
    {
      "cell_type": "code",
      "source": [
        "sv_model.fit(XX_train,yy_train)"
      ],
      "metadata": {
        "colab": {
          "base_uri": "https://localhost:8080/"
        },
        "id": "yh7Itb3ZkFu_",
        "outputId": "fc365b93-b671-4f91-e395-7a22b32f4b7e"
      },
      "execution_count": null,
      "outputs": [
        {
          "output_type": "execute_result",
          "data": {
            "text/plain": [
              "SVR()"
            ]
          },
          "metadata": {},
          "execution_count": 29
        }
      ]
    },
    {
      "cell_type": "code",
      "source": [
        "kernel = ['linear', 'poly', 'rbf', 'sigmoid']\n",
        "C = [1, 52, 10] \n",
        "degree = [3, 8]\n",
        "coef0 = [0.001, 10, 0.5]\n",
        "gamma = ['auto', 'scale']\n",
        "\n",
        "random_grid_svm = {'kernel': kernel,\n",
        "  'C': C,\n",
        "\n",
        "  'degree': degree,\n",
        "\n",
        "  'coef0': coef0,\n",
        "\n",
        "  'gamma': gamma,\n",
        "  }"
      ],
      "metadata": {
        "id": "eFnx3cnSnolU"
      },
      "execution_count": null,
      "outputs": []
    },
    {
      "cell_type": "code",
      "source": [
        "from sklearn.model_selection import GridSearchCV\n",
        "\n",
        "def SVM_hyperparameters(x):\n",
        "    grid_search = GridSearchCV(\n",
        "        x,\n",
        "        param_grid = random_grid_svm,\n",
        "        cv = 5,\n",
        "    )\n",
        "        \n",
        "    grid_search.fit(XX_train, yy_train)\n",
        "    return grid_search.best_params_\n",
        "\n",
        "def SVM_classifier(x):\n",
        "  params = SVM_hyperparameters(x)\n",
        "  return svm.SVR(**params), params"
      ],
      "metadata": {
        "id": "S82vMsd0noeT"
      },
      "execution_count": null,
      "outputs": []
    },
    {
      "cell_type": "code",
      "source": [
        "sv_best, param = SVM_classifier(sv_model)\n",
        "sv_best.fit(XX_train, yy_train)"
      ],
      "metadata": {
        "id": "wXnJNEtVq0iO",
        "colab": {
          "base_uri": "https://localhost:8080/"
        },
        "outputId": "2edc12eb-787a-4dbe-9a90-661feea86a95"
      },
      "execution_count": null,
      "outputs": [
        {
          "output_type": "execute_result",
          "data": {
            "text/plain": [
              "SVR(C=52, coef0=0.001, gamma='auto')"
            ]
          },
          "metadata": {},
          "execution_count": 32
        }
      ]
    },
    {
      "cell_type": "code",
      "source": [
        "yy_pred =  sv_best.predict(XX_test)"
      ],
      "metadata": {
        "id": "kevLXxw1whBc"
      },
      "execution_count": null,
      "outputs": []
    },
    {
      "cell_type": "code",
      "source": [
        "print ('Random grid: ', random_grid_svm, '\\n')\n",
        "\n",
        "print ('Best Parameters: ', param, ' \\n')"
      ],
      "metadata": {
        "id": "LpiVv73zq0kB",
        "colab": {
          "base_uri": "https://localhost:8080/"
        },
        "outputId": "d7069b5b-9b27-426e-962c-5f2ec69fdfe4"
      },
      "execution_count": null,
      "outputs": [
        {
          "output_type": "stream",
          "name": "stdout",
          "text": [
            "Random grid:  {'kernel': ['linear', 'poly', 'rbf', 'sigmoid'], 'C': [1, 52, 10], 'degree': [3, 8], 'coef0': [0.001, 10, 0.5], 'gamma': ['auto', 'scale']} \n",
            "\n",
            "Best Parameters:  {'C': 52, 'coef0': 0.001, 'degree': 3, 'gamma': 'auto', 'kernel': 'rbf'}  \n",
            "\n"
          ]
        }
      ]
    },
    {
      "cell_type": "code",
      "source": [
        "y_pred_sv = pd.DataFrame( { \"actual\": yy_test, \n",
        "\"predicted_prob\": sv_best.predict((XX_test))}) \n",
        "y_pred_sv"
      ],
      "metadata": {
        "id": "0iifmuKKnoa5",
        "colab": {
          "base_uri": "https://localhost:8080/",
          "height": 423
        },
        "outputId": "39c2c3c3-93fd-47f1-915f-fda6ab7c0bae"
      },
      "execution_count": null,
      "outputs": [
        {
          "output_type": "execute_result",
          "data": {
            "text/plain": [
              "     actual  predicted_prob\n",
              "0      33.0       28.196318\n",
              "1      27.5       21.754506\n",
              "2       5.6        8.370539\n",
              "3      21.2       23.122871\n",
              "4      14.9       14.786342\n",
              "..      ...             ...\n",
              "97     22.9       23.300683\n",
              "98     30.5       27.256150\n",
              "99     23.3       26.342647\n",
              "100    19.4       19.010057\n",
              "101    23.0       26.258519\n",
              "\n",
              "[102 rows x 2 columns]"
            ],
            "text/html": [
              "\n",
              "  <div id=\"df-cd0324fc-6d7e-4be9-8542-953c3178946e\">\n",
              "    <div class=\"colab-df-container\">\n",
              "      <div>\n",
              "<style scoped>\n",
              "    .dataframe tbody tr th:only-of-type {\n",
              "        vertical-align: middle;\n",
              "    }\n",
              "\n",
              "    .dataframe tbody tr th {\n",
              "        vertical-align: top;\n",
              "    }\n",
              "\n",
              "    .dataframe thead th {\n",
              "        text-align: right;\n",
              "    }\n",
              "</style>\n",
              "<table border=\"1\" class=\"dataframe\">\n",
              "  <thead>\n",
              "    <tr style=\"text-align: right;\">\n",
              "      <th></th>\n",
              "      <th>actual</th>\n",
              "      <th>predicted_prob</th>\n",
              "    </tr>\n",
              "  </thead>\n",
              "  <tbody>\n",
              "    <tr>\n",
              "      <th>0</th>\n",
              "      <td>33.0</td>\n",
              "      <td>28.196318</td>\n",
              "    </tr>\n",
              "    <tr>\n",
              "      <th>1</th>\n",
              "      <td>27.5</td>\n",
              "      <td>21.754506</td>\n",
              "    </tr>\n",
              "    <tr>\n",
              "      <th>2</th>\n",
              "      <td>5.6</td>\n",
              "      <td>8.370539</td>\n",
              "    </tr>\n",
              "    <tr>\n",
              "      <th>3</th>\n",
              "      <td>21.2</td>\n",
              "      <td>23.122871</td>\n",
              "    </tr>\n",
              "    <tr>\n",
              "      <th>4</th>\n",
              "      <td>14.9</td>\n",
              "      <td>14.786342</td>\n",
              "    </tr>\n",
              "    <tr>\n",
              "      <th>...</th>\n",
              "      <td>...</td>\n",
              "      <td>...</td>\n",
              "    </tr>\n",
              "    <tr>\n",
              "      <th>97</th>\n",
              "      <td>22.9</td>\n",
              "      <td>23.300683</td>\n",
              "    </tr>\n",
              "    <tr>\n",
              "      <th>98</th>\n",
              "      <td>30.5</td>\n",
              "      <td>27.256150</td>\n",
              "    </tr>\n",
              "    <tr>\n",
              "      <th>99</th>\n",
              "      <td>23.3</td>\n",
              "      <td>26.342647</td>\n",
              "    </tr>\n",
              "    <tr>\n",
              "      <th>100</th>\n",
              "      <td>19.4</td>\n",
              "      <td>19.010057</td>\n",
              "    </tr>\n",
              "    <tr>\n",
              "      <th>101</th>\n",
              "      <td>23.0</td>\n",
              "      <td>26.258519</td>\n",
              "    </tr>\n",
              "  </tbody>\n",
              "</table>\n",
              "<p>102 rows × 2 columns</p>\n",
              "</div>\n",
              "      <button class=\"colab-df-convert\" onclick=\"convertToInteractive('df-cd0324fc-6d7e-4be9-8542-953c3178946e')\"\n",
              "              title=\"Convert this dataframe to an interactive table.\"\n",
              "              style=\"display:none;\">\n",
              "        \n",
              "  <svg xmlns=\"http://www.w3.org/2000/svg\" height=\"24px\"viewBox=\"0 0 24 24\"\n",
              "       width=\"24px\">\n",
              "    <path d=\"M0 0h24v24H0V0z\" fill=\"none\"/>\n",
              "    <path d=\"M18.56 5.44l.94 2.06.94-2.06 2.06-.94-2.06-.94-.94-2.06-.94 2.06-2.06.94zm-11 1L8.5 8.5l.94-2.06 2.06-.94-2.06-.94L8.5 2.5l-.94 2.06-2.06.94zm10 10l.94 2.06.94-2.06 2.06-.94-2.06-.94-.94-2.06-.94 2.06-2.06.94z\"/><path d=\"M17.41 7.96l-1.37-1.37c-.4-.4-.92-.59-1.43-.59-.52 0-1.04.2-1.43.59L10.3 9.45l-7.72 7.72c-.78.78-.78 2.05 0 2.83L4 21.41c.39.39.9.59 1.41.59.51 0 1.02-.2 1.41-.59l7.78-7.78 2.81-2.81c.8-.78.8-2.07 0-2.86zM5.41 20L4 18.59l7.72-7.72 1.47 1.35L5.41 20z\"/>\n",
              "  </svg>\n",
              "      </button>\n",
              "      \n",
              "  <style>\n",
              "    .colab-df-container {\n",
              "      display:flex;\n",
              "      flex-wrap:wrap;\n",
              "      gap: 12px;\n",
              "    }\n",
              "\n",
              "    .colab-df-convert {\n",
              "      background-color: #E8F0FE;\n",
              "      border: none;\n",
              "      border-radius: 50%;\n",
              "      cursor: pointer;\n",
              "      display: none;\n",
              "      fill: #1967D2;\n",
              "      height: 32px;\n",
              "      padding: 0 0 0 0;\n",
              "      width: 32px;\n",
              "    }\n",
              "\n",
              "    .colab-df-convert:hover {\n",
              "      background-color: #E2EBFA;\n",
              "      box-shadow: 0px 1px 2px rgba(60, 64, 67, 0.3), 0px 1px 3px 1px rgba(60, 64, 67, 0.15);\n",
              "      fill: #174EA6;\n",
              "    }\n",
              "\n",
              "    [theme=dark] .colab-df-convert {\n",
              "      background-color: #3B4455;\n",
              "      fill: #D2E3FC;\n",
              "    }\n",
              "\n",
              "    [theme=dark] .colab-df-convert:hover {\n",
              "      background-color: #434B5C;\n",
              "      box-shadow: 0px 1px 3px 1px rgba(0, 0, 0, 0.15);\n",
              "      filter: drop-shadow(0px 1px 2px rgba(0, 0, 0, 0.3));\n",
              "      fill: #FFFFFF;\n",
              "    }\n",
              "  </style>\n",
              "\n",
              "      <script>\n",
              "        const buttonEl =\n",
              "          document.querySelector('#df-cd0324fc-6d7e-4be9-8542-953c3178946e button.colab-df-convert');\n",
              "        buttonEl.style.display =\n",
              "          google.colab.kernel.accessAllowed ? 'block' : 'none';\n",
              "\n",
              "        async function convertToInteractive(key) {\n",
              "          const element = document.querySelector('#df-cd0324fc-6d7e-4be9-8542-953c3178946e');\n",
              "          const dataTable =\n",
              "            await google.colab.kernel.invokeFunction('convertToInteractive',\n",
              "                                                     [key], {});\n",
              "          if (!dataTable) return;\n",
              "\n",
              "          const docLinkHtml = 'Like what you see? Visit the ' +\n",
              "            '<a target=\"_blank\" href=https://colab.research.google.com/notebooks/data_table.ipynb>data table notebook</a>'\n",
              "            + ' to learn more about interactive tables.';\n",
              "          element.innerHTML = '';\n",
              "          dataTable['output_type'] = 'display_data';\n",
              "          await google.colab.output.renderOutput(dataTable, element);\n",
              "          const docLink = document.createElement('div');\n",
              "          docLink.innerHTML = docLinkHtml;\n",
              "          element.appendChild(docLink);\n",
              "        }\n",
              "      </script>\n",
              "    </div>\n",
              "  </div>\n",
              "  "
            ]
          },
          "metadata": {},
          "execution_count": 40
        }
      ]
    },
    {
      "cell_type": "code",
      "source": [
        "from sklearn.metrics import accuracy_score, confusion_matrix, classification_report\n",
        "\n",
        "# View accuracy score\n",
        "acc_sv_model = sv_model.score(XX_test, yy_test) * 100\n",
        "print(\"Default model accuracy:\",acc_sv_model,\"%\")\n",
        "\n",
        "acc_sv_best = sv_best.score(XX_test, yy_test) * 100\n",
        "print(\"Best params model accuracy:\",acc_sv_best,\"%\")"
      ],
      "metadata": {
        "id": "BuvCI965v44I",
        "colab": {
          "base_uri": "https://localhost:8080/"
        },
        "outputId": "6a1e2f7f-62f9-4fc1-a804-ef323a5b4b50"
      },
      "execution_count": null,
      "outputs": [
        {
          "output_type": "stream",
          "name": "stdout",
          "text": [
            "Default model accuracy: 66.52442203874216 %\n",
            "Best params model accuracy: 88.72376157372308 %\n"
          ]
        }
      ]
    },
    {
      "cell_type": "code",
      "source": [
        "from sklearn import metrics\n",
        "\n",
        "# Model Evaluation for Support Vector\n",
        "print(\"R^2\",metrics.r2_score(yy_test, yy_pred))\n",
        "print(\"Adusted R^2\", 1-(1-metrics.r2_score(yy_test, yy_pred))*(len(yy_test)-1)/(len(yy_test)-XX_train.shape[1]-1))\n",
        "print(\"MAE\", metrics.mean_absolute_error(yy_test, yy_pred))\n",
        "print(\"MSE\", metrics.mean_squared_error(yy_test, yy_pred))\n",
        "print(\"RMSE\",np.sqrt(metrics.mean_squared_error(yy_test, yy_pred)))"
      ],
      "metadata": {
        "id": "2FXcSPSlkRe8",
        "colab": {
          "base_uri": "https://localhost:8080/"
        },
        "outputId": "88fb0bf2-9564-45b0-e98b-5950059a55ec"
      },
      "execution_count": null,
      "outputs": [
        {
          "output_type": "stream",
          "name": "stdout",
          "text": [
            "R^2 0.8872376157372308\n",
            "Adusted R^2 0.8705795362438672\n",
            "MAE 2.273729271811908\n",
            "MSE 11.574926950014182\n",
            "RMSE 3.402194431541822\n"
          ]
        }
      ]
    },
    {
      "cell_type": "code",
      "source": [
        "# visualize the difference between the actual and predicted price \n",
        "plt.scatter(yy_test, yy_pred)\n",
        "plt.xlabel(\"Price\")\n",
        "plt.ylabel(\"Predicted Price\")\n",
        "plt.title(\"Predicted Vs Prices\")\n",
        "plt.show()"
      ],
      "metadata": {
        "id": "B6dvAjw-kZaz",
        "colab": {
          "base_uri": "https://localhost:8080/",
          "height": 295
        },
        "outputId": "3de1deb5-2545-466a-afd3-d7d6ac51113a"
      },
      "execution_count": null,
      "outputs": [
        {
          "output_type": "display_data",
          "data": {
            "text/plain": [
              "<Figure size 432x288 with 1 Axes>"
            ],
            "image/png": "[encoded data removed]"
          },
          "metadata": {
            "needs_background": "light"
          }
        }
      ]
    }
  ]
}